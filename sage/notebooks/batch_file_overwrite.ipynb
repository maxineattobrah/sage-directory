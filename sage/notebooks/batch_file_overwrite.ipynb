{
 "cells": [
  {
   "cell_type": "code",
   "execution_count": null,
   "metadata": {},
   "outputs": [],
   "source": [
    "import os\n",
    "import shutil"
   ]
  },
  {
   "cell_type": "code",
   "execution_count": null,
   "metadata": {},
   "outputs": [],
   "source": [
    "def batch_file_overwrite(src_dir: str, dest_dir:str, filename: str):\n",
    "    dest_folders = [folder for folder in os.listdir(dest_dir) if os.path.isdir(os.path.join(dest_dir, folder))]\n",
    "    src_folders = [folder for folder in os.listdir(src_dir) if os.path.isdir(os.path.join(src_dir, folder))]\n",
    "\n",
    "    count = 0\n",
    "    for folder in dest_folders:\n",
    "        if folder in src_folders:\n",
    "            file_to_copy_from_src = os.path.join(src_dir, folder, filename)\n",
    "            file_to_copy_over_in_dest_folder = os.path.join(dest_dir, folder, filename)\n",
    "\n",
    "            try:\n",
    "                count = count + 1\n",
    "                shutil.copy(file_to_copy_from_src, file_to_copy_over_in_dest_folder)\n",
    "                print(str(count), \"Updated \"+file_to_copy_over_in_dest_folder+\" to \"+file_to_copy_from_src)\n",
    "            except Exception as e:\n",
    "                print(\"Failed to update \"+file_to_copy_over_in_dest_folder+\" to \"+file_to_copy_from_src+\": \"+str(e))\n",
    "    return None"
   ]
  }
 ],
 "metadata": {
  "language_info": {
   "name": "python"
  }
 },
 "nbformat": 4,
 "nbformat_minor": 2
}
