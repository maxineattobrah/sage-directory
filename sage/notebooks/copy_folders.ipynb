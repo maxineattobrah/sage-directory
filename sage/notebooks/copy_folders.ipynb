{
 "cells": [
  {
   "cell_type": "code",
   "execution_count": null,
   "metadata": {},
   "outputs": [],
   "source": [
    "import os\n",
    "import shutil"
   ]
  },
  {
   "cell_type": "code",
   "execution_count": null,
   "metadata": {},
   "outputs": [],
   "source": [
    "def copy_folders(ref_dir:str, src_dir:str, dest_dir:str):\n",
    "    folders = [folder for folder in os.listdir(ref_dir) if os.path.isdir(os.path.join(ref_dir,folder))]\n",
    "\n",
    "    count = 0\n",
    "    for folder in folders:\n",
    "        count = count + 1\n",
    "        src_folder = os.path.join(src_dir, folder)\n",
    "        dest_folder = os.path.join(dest_dir, folder)\n",
    "\n",
    "        try:\n",
    "            shutil.copytree(src_folder, dest_folder)\n",
    "            print(str(count), \"Copied \"+src_folder+\" to \"+dest_folder)\n",
    "        except Exception as e:\n",
    "            print(\"Failed to copy \"+src_folder+\" to \"+dest_folder+\": \"+str(e))\n",
    "            \n",
    "    return None"
   ]
  }
 ],
 "metadata": {
  "language_info": {
   "name": "python"
  }
 },
 "nbformat": 4,
 "nbformat_minor": 2
}
